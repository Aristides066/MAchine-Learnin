{
 "cells": [
  {
   "cell_type": "markdown",
   "id": "4b558d6c-b193-40e6-8f64-d42a64be262e",
   "metadata": {},
   "source": [
    "In this project, I will use Scikit-learn to implement multiclass classification with logistic regression by first preparing your data (including one-hot encoding if needed), then training models using both One-vs-All (OvA) and One-vs-One (OvO) strategies. After splitting the data into training and testing sets, I'll fit the models, make predictions, and evaluate performance using metrics like accuracy, precision, recall, F1-score, and a confusion matrix to understand how well each strategy performs."
   ]
  },
  {
   "cell_type": "code",
   "execution_count": 3,
   "id": "60e09437-0159-47ac-91c1-dd3a95631521",
   "metadata": {},
   "outputs": [],
   "source": [
    "#import libraries \n",
    "import pandas as pd\n",
    "import numpy as np \n",
    "import matplotlib.pyplot as plt\n",
    "import seaborn as sns\n",
    "from sklearn.model_selection import train_test_split\n",
    "from sklearn.preprocessing import OneHotEncoder, StandardScaler\n",
    "from sklearn.linear_model import LogisticRegression\n",
    "from sklearn.multiclass import OneVsOneClassifier\n",
    "from sklearn.metrics import accuracy_score\n",
    "\n",
    "import warnings\n",
    "warnings.filterwarnings('ignore')"
   ]
  },
  {
   "cell_type": "code",
   "execution_count": 4,
   "id": "b5bfb858-0f82-451f-bd32-95b6c37e3890",
   "metadata": {},
   "outputs": [
    {
     "data": {
      "text/html": [
       "<div>\n",
       "<style scoped>\n",
       "    .dataframe tbody tr th:only-of-type {\n",
       "        vertical-align: middle;\n",
       "    }\n",
       "\n",
       "    .dataframe tbody tr th {\n",
       "        vertical-align: top;\n",
       "    }\n",
       "\n",
       "    .dataframe thead th {\n",
       "        text-align: right;\n",
       "    }\n",
       "</style>\n",
       "<table border=\"1\" class=\"dataframe\">\n",
       "  <thead>\n",
       "    <tr style=\"text-align: right;\">\n",
       "      <th></th>\n",
       "      <th>Gender</th>\n",
       "      <th>Age</th>\n",
       "      <th>Height</th>\n",
       "      <th>Weight</th>\n",
       "      <th>family_history_with_overweight</th>\n",
       "      <th>FAVC</th>\n",
       "      <th>FCVC</th>\n",
       "      <th>NCP</th>\n",
       "      <th>CAEC</th>\n",
       "      <th>SMOKE</th>\n",
       "      <th>CH2O</th>\n",
       "      <th>SCC</th>\n",
       "      <th>FAF</th>\n",
       "      <th>TUE</th>\n",
       "      <th>CALC</th>\n",
       "      <th>MTRANS</th>\n",
       "      <th>NObeyesdad</th>\n",
       "    </tr>\n",
       "  </thead>\n",
       "  <tbody>\n",
       "    <tr>\n",
       "      <th>0</th>\n",
       "      <td>Female</td>\n",
       "      <td>21.0</td>\n",
       "      <td>1.62</td>\n",
       "      <td>64.0</td>\n",
       "      <td>yes</td>\n",
       "      <td>no</td>\n",
       "      <td>2.0</td>\n",
       "      <td>3.0</td>\n",
       "      <td>Sometimes</td>\n",
       "      <td>no</td>\n",
       "      <td>2.0</td>\n",
       "      <td>no</td>\n",
       "      <td>0.0</td>\n",
       "      <td>1.0</td>\n",
       "      <td>no</td>\n",
       "      <td>Public_Transportation</td>\n",
       "      <td>Normal_Weight</td>\n",
       "    </tr>\n",
       "    <tr>\n",
       "      <th>1</th>\n",
       "      <td>Female</td>\n",
       "      <td>21.0</td>\n",
       "      <td>1.52</td>\n",
       "      <td>56.0</td>\n",
       "      <td>yes</td>\n",
       "      <td>no</td>\n",
       "      <td>3.0</td>\n",
       "      <td>3.0</td>\n",
       "      <td>Sometimes</td>\n",
       "      <td>yes</td>\n",
       "      <td>3.0</td>\n",
       "      <td>yes</td>\n",
       "      <td>3.0</td>\n",
       "      <td>0.0</td>\n",
       "      <td>Sometimes</td>\n",
       "      <td>Public_Transportation</td>\n",
       "      <td>Normal_Weight</td>\n",
       "    </tr>\n",
       "    <tr>\n",
       "      <th>2</th>\n",
       "      <td>Male</td>\n",
       "      <td>23.0</td>\n",
       "      <td>1.80</td>\n",
       "      <td>77.0</td>\n",
       "      <td>yes</td>\n",
       "      <td>no</td>\n",
       "      <td>2.0</td>\n",
       "      <td>3.0</td>\n",
       "      <td>Sometimes</td>\n",
       "      <td>no</td>\n",
       "      <td>2.0</td>\n",
       "      <td>no</td>\n",
       "      <td>2.0</td>\n",
       "      <td>1.0</td>\n",
       "      <td>Frequently</td>\n",
       "      <td>Public_Transportation</td>\n",
       "      <td>Normal_Weight</td>\n",
       "    </tr>\n",
       "    <tr>\n",
       "      <th>3</th>\n",
       "      <td>Male</td>\n",
       "      <td>27.0</td>\n",
       "      <td>1.80</td>\n",
       "      <td>87.0</td>\n",
       "      <td>no</td>\n",
       "      <td>no</td>\n",
       "      <td>3.0</td>\n",
       "      <td>3.0</td>\n",
       "      <td>Sometimes</td>\n",
       "      <td>no</td>\n",
       "      <td>2.0</td>\n",
       "      <td>no</td>\n",
       "      <td>2.0</td>\n",
       "      <td>0.0</td>\n",
       "      <td>Frequently</td>\n",
       "      <td>Walking</td>\n",
       "      <td>Overweight_Level_I</td>\n",
       "    </tr>\n",
       "    <tr>\n",
       "      <th>4</th>\n",
       "      <td>Male</td>\n",
       "      <td>22.0</td>\n",
       "      <td>1.78</td>\n",
       "      <td>89.8</td>\n",
       "      <td>no</td>\n",
       "      <td>no</td>\n",
       "      <td>2.0</td>\n",
       "      <td>1.0</td>\n",
       "      <td>Sometimes</td>\n",
       "      <td>no</td>\n",
       "      <td>2.0</td>\n",
       "      <td>no</td>\n",
       "      <td>0.0</td>\n",
       "      <td>0.0</td>\n",
       "      <td>Sometimes</td>\n",
       "      <td>Public_Transportation</td>\n",
       "      <td>Overweight_Level_II</td>\n",
       "    </tr>\n",
       "  </tbody>\n",
       "</table>\n",
       "</div>"
      ],
      "text/plain": [
       "   Gender   Age  Height  Weight family_history_with_overweight FAVC  FCVC  \\\n",
       "0  Female  21.0    1.62    64.0                            yes   no   2.0   \n",
       "1  Female  21.0    1.52    56.0                            yes   no   3.0   \n",
       "2    Male  23.0    1.80    77.0                            yes   no   2.0   \n",
       "3    Male  27.0    1.80    87.0                             no   no   3.0   \n",
       "4    Male  22.0    1.78    89.8                             no   no   2.0   \n",
       "\n",
       "   NCP       CAEC SMOKE  CH2O  SCC  FAF  TUE        CALC  \\\n",
       "0  3.0  Sometimes    no   2.0   no  0.0  1.0          no   \n",
       "1  3.0  Sometimes   yes   3.0  yes  3.0  0.0   Sometimes   \n",
       "2  3.0  Sometimes    no   2.0   no  2.0  1.0  Frequently   \n",
       "3  3.0  Sometimes    no   2.0   no  2.0  0.0  Frequently   \n",
       "4  1.0  Sometimes    no   2.0   no  0.0  0.0   Sometimes   \n",
       "\n",
       "                  MTRANS           NObeyesdad  \n",
       "0  Public_Transportation        Normal_Weight  \n",
       "1  Public_Transportation        Normal_Weight  \n",
       "2  Public_Transportation        Normal_Weight  \n",
       "3                Walking   Overweight_Level_I  \n",
       "4  Public_Transportation  Overweight_Level_II  "
      ]
     },
     "execution_count": 4,
     "metadata": {},
     "output_type": "execute_result"
    }
   ],
   "source": [
    "file_path = \"https://cf-courses-data.s3.us.cloud-object-storage.appdomain.cloud/GkDzb7bWrtvGXdPOfk6CIg/Obesity-level-prediction-dataset.csv\"\n",
    "data = pd.read_csv(file_path)\n",
    "data.head()"
   ]
  },
  {
   "cell_type": "markdown",
   "id": "e40f26ff-0f5c-4d52-9598-dc6a313ecc3e",
   "metadata": {},
   "source": [
    "### exploratory data analysis \n"
   ]
  },
  {
   "cell_type": "markdown",
   "id": "c6627a5d-9a0a-422c-a08f-d1bda5310d93",
   "metadata": {},
   "source": [
    "Visualize the distribution of the target variable to understand the class balance.\n",
    "\n"
   ]
  },
  {
   "cell_type": "code",
   "execution_count": 5,
   "id": "1e25acaf-5d15-45ac-aaf3-4b072f485e2b",
   "metadata": {},
   "outputs": [
    {
     "data": {
      "image/png": "[encoded data removed]",
      "text/plain": [
       "<Figure size 640x480 with 1 Axes>"
      ]
     },
     "metadata": {},
     "output_type": "display_data"
    }
   ],
   "source": [
    "# Distribution of target variable\n",
    "sns.countplot(y='NObeyesdad', data=data)\n",
    "plt.title('Distribution of Obesity Levels')\n",
    "plt.show()\n"
   ]
  },
  {
   "cell_type": "markdown",
   "id": "53f3edb0-6fac-4b81-b40f-fc29bffd3414",
   "metadata": {},
   "source": [
    "From this we can see that the dataset is fairly balanced and soes not require  any special attention in terms of biased training"
   ]
  },
  {
   "cell_type": "code",
   "execution_count": 7,
   "id": "5b47200d-5608-40b2-b649-271542668511",
   "metadata": {},
   "outputs": [
    {
     "data": {
      "text/plain": [
       "<bound method DataFrame.info of       Gender        Age    Height      Weight family_history_with_overweight  \\\n",
       "0     Female  21.000000  1.620000   64.000000                            yes   \n",
       "1     Female  21.000000  1.520000   56.000000                            yes   \n",
       "2       Male  23.000000  1.800000   77.000000                            yes   \n",
       "3       Male  27.000000  1.800000   87.000000                             no   \n",
       "4       Male  22.000000  1.780000   89.800000                             no   \n",
       "...      ...        ...       ...         ...                            ...   \n",
       "2106  Female  20.976842  1.710730  131.408528                            yes   \n",
       "2107  Female  21.982942  1.748584  133.742943                            yes   \n",
       "2108  Female  22.524036  1.752206  133.689352                            yes   \n",
       "2109  Female  24.361936  1.739450  133.346641                            yes   \n",
       "2110  Female  23.664709  1.738836  133.472641                            yes   \n",
       "\n",
       "     FAVC  FCVC  NCP       CAEC SMOKE      CH2O  SCC       FAF       TUE  \\\n",
       "0      no   2.0  3.0  Sometimes    no  2.000000   no  0.000000  1.000000   \n",
       "1      no   3.0  3.0  Sometimes   yes  3.000000  yes  3.000000  0.000000   \n",
       "2      no   2.0  3.0  Sometimes    no  2.000000   no  2.000000  1.000000   \n",
       "3      no   3.0  3.0  Sometimes    no  2.000000   no  2.000000  0.000000   \n",
       "4      no   2.0  1.0  Sometimes    no  2.000000   no  0.000000  0.000000   \n",
       "...   ...   ...  ...        ...   ...       ...  ...       ...       ...   \n",
       "2106  yes   3.0  3.0  Sometimes    no  1.728139   no  1.676269  0.906247   \n",
       "2107  yes   3.0  3.0  Sometimes    no  2.005130   no  1.341390  0.599270   \n",
       "2108  yes   3.0  3.0  Sometimes    no  2.054193   no  1.414209  0.646288   \n",
       "2109  yes   3.0  3.0  Sometimes    no  2.852339   no  1.139107  0.586035   \n",
       "2110  yes   3.0  3.0  Sometimes    no  2.863513   no  1.026452  0.714137   \n",
       "\n",
       "            CALC                 MTRANS           NObeyesdad  \n",
       "0             no  Public_Transportation        Normal_Weight  \n",
       "1      Sometimes  Public_Transportation        Normal_Weight  \n",
       "2     Frequently  Public_Transportation        Normal_Weight  \n",
       "3     Frequently                Walking   Overweight_Level_I  \n",
       "4      Sometimes  Public_Transportation  Overweight_Level_II  \n",
       "...          ...                    ...                  ...  \n",
       "2106   Sometimes  Public_Transportation     Obesity_Type_III  \n",
       "2107   Sometimes  Public_Transportation     Obesity_Type_III  \n",
       "2108   Sometimes  Public_Transportation     Obesity_Type_III  \n",
       "2109   Sometimes  Public_Transportation     Obesity_Type_III  \n",
       "2110   Sometimes  Public_Transportation     Obesity_Type_III  \n",
       "\n",
       "[2111 rows x 17 columns]>"
      ]
     },
     "execution_count": 7,
     "metadata": {},
     "output_type": "execute_result"
    }
   ],
   "source": [
    "data.info"
   ]
  },
  {
   "cell_type": "code",
   "execution_count": 9,
   "id": "190963f7-0260-4544-a5d5-e2e97b14b928",
   "metadata": {},
   "outputs": [
    {
     "data": {
      "text/plain": [
       "Gender                            0\n",
       "Age                               0\n",
       "Height                            0\n",
       "Weight                            0\n",
       "family_history_with_overweight    0\n",
       "FAVC                              0\n",
       "FCVC                              0\n",
       "NCP                               0\n",
       "CAEC                              0\n",
       "SMOKE                             0\n",
       "CH2O                              0\n",
       "SCC                               0\n",
       "FAF                               0\n",
       "TUE                               0\n",
       "CALC                              0\n",
       "MTRANS                            0\n",
       "NObeyesdad                        0\n",
       "dtype: int64"
      ]
     },
     "execution_count": 9,
     "metadata": {},
     "output_type": "execute_result"
    }
   ],
   "source": [
    "data.isnull().sum()"
   ]
  },
  {
   "cell_type": "markdown",
   "id": "c53c8050-4de9-4956-9194-1026db75e822",
   "metadata": {},
   "source": [
    "### Preprocessing data "
   ]
  },
  {
   "cell_type": "markdown",
   "id": "d9d355b4-7085-4f0b-8c70-725bc5477dd0",
   "metadata": {},
   "source": [
    "#### Scaling data"
   ]
  },
  {
   "cell_type": "markdown",
   "id": "de5d6171-d97d-465d-85bc-1c8f2f7db2cb",
   "metadata": {},
   "source": [
    "Scale the numerical features to standardize their ranges for better model performance."
   ]
  },
  {
   "cell_type": "code",
   "execution_count": 10,
   "id": "163882ee-a006-4443-ace2-f7094b4ab904",
   "metadata": {},
   "outputs": [],
   "source": [
    "#Standardizing continuous numerical features\n",
    "continuous_columns = data.select_dtypes(include=['float64']).columns.tolist()\n",
    "\n",
    "scaler = StandardScaler()\n",
    "scaled_features = scaler.fit_transform(data[continuous_columns])\n",
    "\n",
    "# Converting to a DataFrame\n",
    "scaled_df = pd.DataFrame(scaled_features, columns=scaler.get_feature_names_out(continuous_columns))\n",
    "\n",
    "# Combining with the original dataset\n",
    "scaled_data = pd.concat([data.drop(columns=continuous_columns), scaled_df], axis=1)"
   ]
  },
  {
   "cell_type": "markdown",
   "id": "cc8407cd-edda-4c3f-b79c-5a8ffd4005ff",
   "metadata": {},
   "source": [
    "### One hot coding"
   ]
  },
  {
   "cell_type": "code",
   "execution_count": 11,
   "id": "bd1bb019-6e4c-43a4-b436-fc4140f5db96",
   "metadata": {},
   "outputs": [],
   "source": [
    "#identifyimg categorical colmns\n",
    "# Identifying categorical columns\n",
    "categorical_columns = scaled_data.select_dtypes(include=['object']).columns.tolist()\n",
    "categorical_columns.remove('NObeyesdad')  # Exclude target column\n",
    "\n",
    "# Applying one-hot encoding\n",
    "encoder = OneHotEncoder(sparse_output=False, drop='first')\n",
    "encoded_features = encoder.fit_transform(scaled_data[categorical_columns])\n",
    "\n",
    "# Converting to a DataFrame\n",
    "encoded_df = pd.DataFrame(encoded_features, columns=encoder.get_feature_names_out(categorical_columns))\n",
    "\n",
    "# Combining with the original dataset\n",
    "prepped_data = pd.concat([scaled_data.drop(columns=categorical_columns), encoded_df], axis=1)"
   ]
  },
  {
   "cell_type": "code",
   "execution_count": 12,
   "id": "c4fef7c7-d237-4ab3-98b7-bbaa00ec6b43",
   "metadata": {},
   "outputs": [
    {
     "data": {
      "text/html": [
       "<div>\n",
       "<style scoped>\n",
       "    .dataframe tbody tr th:only-of-type {\n",
       "        vertical-align: middle;\n",
       "    }\n",
       "\n",
       "    .dataframe tbody tr th {\n",
       "        vertical-align: top;\n",
       "    }\n",
       "\n",
       "    .dataframe thead th {\n",
       "        text-align: right;\n",
       "    }\n",
       "</style>\n",
       "<table border=\"1\" class=\"dataframe\">\n",
       "  <thead>\n",
       "    <tr style=\"text-align: right;\">\n",
       "      <th></th>\n",
       "      <th>NObeyesdad</th>\n",
       "      <th>Age</th>\n",
       "      <th>Height</th>\n",
       "      <th>Weight</th>\n",
       "      <th>FCVC</th>\n",
       "      <th>NCP</th>\n",
       "      <th>CH2O</th>\n",
       "      <th>FAF</th>\n",
       "      <th>TUE</th>\n",
       "      <th>Gender_Male</th>\n",
       "      <th>...</th>\n",
       "      <th>CAEC_no</th>\n",
       "      <th>SMOKE_yes</th>\n",
       "      <th>SCC_yes</th>\n",
       "      <th>CALC_Frequently</th>\n",
       "      <th>CALC_Sometimes</th>\n",
       "      <th>CALC_no</th>\n",
       "      <th>MTRANS_Bike</th>\n",
       "      <th>MTRANS_Motorbike</th>\n",
       "      <th>MTRANS_Public_Transportation</th>\n",
       "      <th>MTRANS_Walking</th>\n",
       "    </tr>\n",
       "  </thead>\n",
       "  <tbody>\n",
       "    <tr>\n",
       "      <th>0</th>\n",
       "      <td>1</td>\n",
       "      <td>-0.522124</td>\n",
       "      <td>-0.875589</td>\n",
       "      <td>-0.862558</td>\n",
       "      <td>-0.785019</td>\n",
       "      <td>0.404153</td>\n",
       "      <td>-0.013073</td>\n",
       "      <td>-1.188039</td>\n",
       "      <td>0.561997</td>\n",
       "      <td>0.0</td>\n",
       "      <td>...</td>\n",
       "      <td>0.0</td>\n",
       "      <td>0.0</td>\n",
       "      <td>0.0</td>\n",
       "      <td>0.0</td>\n",
       "      <td>0.0</td>\n",
       "      <td>1.0</td>\n",
       "      <td>0.0</td>\n",
       "      <td>0.0</td>\n",
       "      <td>1.0</td>\n",
       "      <td>0.0</td>\n",
       "    </tr>\n",
       "    <tr>\n",
       "      <th>1</th>\n",
       "      <td>1</td>\n",
       "      <td>-0.522124</td>\n",
       "      <td>-1.947599</td>\n",
       "      <td>-1.168077</td>\n",
       "      <td>1.088342</td>\n",
       "      <td>0.404153</td>\n",
       "      <td>1.618759</td>\n",
       "      <td>2.339750</td>\n",
       "      <td>-1.080625</td>\n",
       "      <td>0.0</td>\n",
       "      <td>...</td>\n",
       "      <td>0.0</td>\n",
       "      <td>1.0</td>\n",
       "      <td>1.0</td>\n",
       "      <td>0.0</td>\n",
       "      <td>1.0</td>\n",
       "      <td>0.0</td>\n",
       "      <td>0.0</td>\n",
       "      <td>0.0</td>\n",
       "      <td>1.0</td>\n",
       "      <td>0.0</td>\n",
       "    </tr>\n",
       "    <tr>\n",
       "      <th>2</th>\n",
       "      <td>1</td>\n",
       "      <td>-0.206889</td>\n",
       "      <td>1.054029</td>\n",
       "      <td>-0.366090</td>\n",
       "      <td>-0.785019</td>\n",
       "      <td>0.404153</td>\n",
       "      <td>-0.013073</td>\n",
       "      <td>1.163820</td>\n",
       "      <td>0.561997</td>\n",
       "      <td>1.0</td>\n",
       "      <td>...</td>\n",
       "      <td>0.0</td>\n",
       "      <td>0.0</td>\n",
       "      <td>0.0</td>\n",
       "      <td>1.0</td>\n",
       "      <td>0.0</td>\n",
       "      <td>0.0</td>\n",
       "      <td>0.0</td>\n",
       "      <td>0.0</td>\n",
       "      <td>1.0</td>\n",
       "      <td>0.0</td>\n",
       "    </tr>\n",
       "    <tr>\n",
       "      <th>3</th>\n",
       "      <td>5</td>\n",
       "      <td>0.423582</td>\n",
       "      <td>1.054029</td>\n",
       "      <td>0.015808</td>\n",
       "      <td>1.088342</td>\n",
       "      <td>0.404153</td>\n",
       "      <td>-0.013073</td>\n",
       "      <td>1.163820</td>\n",
       "      <td>-1.080625</td>\n",
       "      <td>1.0</td>\n",
       "      <td>...</td>\n",
       "      <td>0.0</td>\n",
       "      <td>0.0</td>\n",
       "      <td>0.0</td>\n",
       "      <td>1.0</td>\n",
       "      <td>0.0</td>\n",
       "      <td>0.0</td>\n",
       "      <td>0.0</td>\n",
       "      <td>0.0</td>\n",
       "      <td>0.0</td>\n",
       "      <td>1.0</td>\n",
       "    </tr>\n",
       "    <tr>\n",
       "      <th>4</th>\n",
       "      <td>6</td>\n",
       "      <td>-0.364507</td>\n",
       "      <td>0.839627</td>\n",
       "      <td>0.122740</td>\n",
       "      <td>-0.785019</td>\n",
       "      <td>-2.167023</td>\n",
       "      <td>-0.013073</td>\n",
       "      <td>-1.188039</td>\n",
       "      <td>-1.080625</td>\n",
       "      <td>1.0</td>\n",
       "      <td>...</td>\n",
       "      <td>0.0</td>\n",
       "      <td>0.0</td>\n",
       "      <td>0.0</td>\n",
       "      <td>0.0</td>\n",
       "      <td>1.0</td>\n",
       "      <td>0.0</td>\n",
       "      <td>0.0</td>\n",
       "      <td>0.0</td>\n",
       "      <td>1.0</td>\n",
       "      <td>0.0</td>\n",
       "    </tr>\n",
       "  </tbody>\n",
       "</table>\n",
       "<p>5 rows × 24 columns</p>\n",
       "</div>"
      ],
      "text/plain": [
       "   NObeyesdad       Age    Height    Weight      FCVC       NCP      CH2O  \\\n",
       "0           1 -0.522124 -0.875589 -0.862558 -0.785019  0.404153 -0.013073   \n",
       "1           1 -0.522124 -1.947599 -1.168077  1.088342  0.404153  1.618759   \n",
       "2           1 -0.206889  1.054029 -0.366090 -0.785019  0.404153 -0.013073   \n",
       "3           5  0.423582  1.054029  0.015808  1.088342  0.404153 -0.013073   \n",
       "4           6 -0.364507  0.839627  0.122740 -0.785019 -2.167023 -0.013073   \n",
       "\n",
       "        FAF       TUE  Gender_Male  ...  CAEC_no  SMOKE_yes  SCC_yes  \\\n",
       "0 -1.188039  0.561997          0.0  ...      0.0        0.0      0.0   \n",
       "1  2.339750 -1.080625          0.0  ...      0.0        1.0      1.0   \n",
       "2  1.163820  0.561997          1.0  ...      0.0        0.0      0.0   \n",
       "3  1.163820 -1.080625          1.0  ...      0.0        0.0      0.0   \n",
       "4 -1.188039 -1.080625          1.0  ...      0.0        0.0      0.0   \n",
       "\n",
       "   CALC_Frequently  CALC_Sometimes  CALC_no  MTRANS_Bike  MTRANS_Motorbike  \\\n",
       "0              0.0             0.0      1.0          0.0               0.0   \n",
       "1              0.0             1.0      0.0          0.0               0.0   \n",
       "2              1.0             0.0      0.0          0.0               0.0   \n",
       "3              1.0             0.0      0.0          0.0               0.0   \n",
       "4              0.0             1.0      0.0          0.0               0.0   \n",
       "\n",
       "   MTRANS_Public_Transportation  MTRANS_Walking  \n",
       "0                           1.0             0.0  \n",
       "1                           1.0             0.0  \n",
       "2                           1.0             0.0  \n",
       "3                           0.0             1.0  \n",
       "4                           1.0             0.0  \n",
       "\n",
       "[5 rows x 24 columns]"
      ]
     },
     "execution_count": 12,
     "metadata": {},
     "output_type": "execute_result"
    }
   ],
   "source": [
    "### Encode the target\n",
    "# Encoding the target variable\n",
    "prepped_data['NObeyesdad'] = prepped_data['NObeyesdad'].astype('category').cat.codes\n",
    "prepped_data.head()"
   ]
  },
  {
   "cell_type": "markdown",
   "id": "a0eac3ce-fa21-424c-ae65-1720b64338e0",
   "metadata": {},
   "source": [
    "### Separate the input data and target data\n"
   ]
  },
  {
   "cell_type": "code",
   "execution_count": 15,
   "id": "879eb108-c714-4724-bfe5-685175ac8bc9",
   "metadata": {},
   "outputs": [],
   "source": [
    "# Preparing final dataset\n",
    "X=prepped_data.drop('NObeyesdad',axis=1)\n",
    "y=prepped_data['NObeyesdad']\n"
   ]
  },
  {
   "cell_type": "markdown",
   "id": "10206305-738b-4d15-aa06-002f0193133a",
   "metadata": {},
   "source": [
    "### Model training"
   ]
  },
  {
   "cell_type": "markdown",
   "id": "8c0f574d-52e8-46be-b834-a6ca85fa758d",
   "metadata": {},
   "source": [
    "#### Splitiing the data set\n"
   ]
  },
  {
   "cell_type": "code",
   "execution_count": null,
   "id": "0b7713f7-b684-432c-9c71-c9ecc42b8eaf",
   "metadata": {},
   "outputs": [],
   "source": [
    "# Splitting data\n",
    "X_train, X_test, y_train, y_test = train_test_split(X, y, test_size=0.2, random_state=42, stratify=y)"
   ]
  },
  {
   "cell_type": "markdown",
   "id": "93865ca8-c78d-4041-9d34-1e4cd9335c39",
   "metadata": {},
   "source": [
    "### Logistic Regression with One-vs-All"
   ]
  },
  {
   "cell_type": "code",
   "execution_count": 17,
   "id": "8c321193-6839-4db6-ac7f-fdaed8b2a9ca",
   "metadata": {},
   "outputs": [
    {
     "name": "stdout",
     "output_type": "stream",
     "text": [
      "One-vs-All (OvA) Strategy\n",
      "Accuracy: 76.12%\n"
     ]
    }
   ],
   "source": [
    "# Splitting data\n",
    "X_train, X_test, y_train, y_test = train_test_split(X, y, test_size=0.2, random_state=42, stratify=y)\n",
    "# Training logistic regression model using One-vs-All (default)\n",
    "model_ova = LogisticRegression(multi_class='ovr', max_iter=1000)\n",
    "model_ova.fit(X_train, y_train)\n",
    "# Predictions\n",
    "y_pred_ova = model_ova.predict(X_test)\n",
    "\n",
    "# Evaluation metrics for OvA\n",
    "print(\"One-vs-All (OvA) Strategy\")\n",
    "print(f\"Accuracy: {np.round(100*accuracy_score(y_test, y_pred_ova),2)}%\")"
   ]
  },
  {
   "cell_type": "markdown",
   "id": "7f69c5b5-e6b7-4f4f-b9a8-b88d0f0d5d45",
   "metadata": {},
   "source": [
    "### Logistic Regression with OvO"
   ]
  },
  {
   "cell_type": "code",
   "execution_count": 18,
   "id": "2950bcd2-6461-4baf-a9b0-c68495a0f8bb",
   "metadata": {},
   "outputs": [
    {
     "name": "stdout",
     "output_type": "stream",
     "text": [
      "One-vs-One (OvO) Strategy\n",
      "Accuracy: 92.2%\n"
     ]
    }
   ],
   "source": [
    "# Splitting data\n",
    "X_train, X_test, y_train, y_test = train_test_split(X, y, test_size=0.2, random_state=42, stratify=y)\n",
    "# Training logistic regression model using One-vs-One\n",
    "model_ovo = OneVsOneClassifier(LogisticRegression(max_iter=1000))\n",
    "model_ovo.fit(X_train, y_train)\n",
    "# Predictions\n",
    "y_pred_ovo = model_ovo.predict(X_test)\n",
    "\n",
    "# Evaluation metrics for OvO\n",
    "print(\"One-vs-One (OvO) Strategy\")\n",
    "print(f\"Accuracy: {np.round(100*accuracy_score(y_test, y_pred_ovo),2)}%\")"
   ]
  },
  {
   "cell_type": "code",
   "execution_count": 20,
   "id": "efed9471-9a91-442c-8c24-25327a12bd85",
   "metadata": {},
   "outputs": [
    {
     "name": "stdout",
     "output_type": "stream",
     "text": [
      "Test Size: 0.1\n",
      "Accuracy: 0.7594339622641509\n",
      "Test Size: 0.3\n",
      "Accuracy: 0.749211356466877\n"
     ]
    }
   ],
   "source": [
    "#Experiment with different train test size\n",
    "for test_size in [0.1, 0.3]:\n",
    "    X_train, X_test, y_train, y_test = train_test_split(X, y, test_size=test_size, random_state=42, stratify=y)\n",
    "    model_ova.fit(X_train, y_train)\n",
    "    y_pred = model_ova.predict(X_test)\n",
    "    print(f\"Test Size: {test_size}\")\n",
    "    print(\"Accuracy:\", accuracy_score(y_test, y_pred))"
   ]
  },
  {
   "cell_type": "code",
   "execution_count": null,
   "id": "9f988380-4396-4471-86d7-f64d68d6790a",
   "metadata": {},
   "outputs": [],
   "source": [
    "#"
   ]
  }
 ],
 "metadata": {
  "kernelspec": {
   "display_name": "Python [conda env:base] *",
   "language": "python",
   "name": "conda-base-py"
  },
  "language_info": {
   "codemirror_mode": {
    "name": "ipython",
    "version": 3
   },
   "file_extension": ".py",
   "mimetype": "text/x-python",
   "name": "python",
   "nbconvert_exporter": "python",
   "pygments_lexer": "ipython3",
   "version": "3.12.7"
  }
 },
 "nbformat": 4,
 "nbformat_minor": 5
}
