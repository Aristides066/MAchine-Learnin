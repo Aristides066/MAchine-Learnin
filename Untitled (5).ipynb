{
 "cells": [
  {
   "cell_type": "markdown",
   "id": "9c0c9eab-383a-4831-b3d8-9c5ef100b87f",
   "metadata": {},
   "source": [
    "### Building a Rainfall Prediction Classifier"
   ]
  },
  {
   "cell_type": "code",
   "execution_count": 4,
   "id": "eab53926-e919-456d-bad0-2f23886bafb8",
   "metadata": {
    "tags": []
   },
   "outputs": [],
   "source": [
    "#import required libraries\n",
    "import pandas as pd\n",
    "import numpy as np \n",
    "import matplotlib.pyplot as plt\n",
    "from sklearn.compose import ColumnTransformer\n",
    "from sklearn.pipeline import Pipeline\n",
    "from sklearn.preprocessing import StandardScaler, OneHotEncoder\n",
    "from sklearn.model_selection import train_test_split, GridSearchCV, StratifiedKFold\n",
    "from sklearn.ensemble import RandomForestClassifier\n",
    "from sklearn.linear_model import LogisticRegression\n",
    "from sklearn.metrics import classification_report, confusion_matrix, ConfusionMatrixDisplay\n",
    "import seaborn as sns\n"
   ]
  },
  {
   "cell_type": "markdown",
   "id": "2385a161-f2ea-4f88-9c89-9d8ca9f9811a",
   "metadata": {},
   "source": [
    "### Load the data set"
   ]
  },
  {
   "cell_type": "code",
   "execution_count": 5,
   "id": "24795cc0-b122-45f5-8c5a-4b46782389ef",
   "metadata": {
    "tags": []
   },
   "outputs": [
    {
     "data": {
      "text/html": [
       "<div>\n",
       "<style scoped>\n",
       "    .dataframe tbody tr th:only-of-type {\n",
       "        vertical-align: middle;\n",
       "    }\n",
       "\n",
       "    .dataframe tbody tr th {\n",
       "        vertical-align: top;\n",
       "    }\n",
       "\n",
       "    .dataframe thead th {\n",
       "        text-align: right;\n",
       "    }\n",
       "</style>\n",
       "<table border=\"1\" class=\"dataframe\">\n",
       "  <thead>\n",
       "    <tr style=\"text-align: right;\">\n",
       "      <th></th>\n",
       "      <th>Date</th>\n",
       "      <th>Location</th>\n",
       "      <th>MinTemp</th>\n",
       "      <th>MaxTemp</th>\n",
       "      <th>Rainfall</th>\n",
       "      <th>Evaporation</th>\n",
       "      <th>Sunshine</th>\n",
       "      <th>WindGustDir</th>\n",
       "      <th>WindGustSpeed</th>\n",
       "      <th>WindDir9am</th>\n",
       "      <th>...</th>\n",
       "      <th>Humidity9am</th>\n",
       "      <th>Humidity3pm</th>\n",
       "      <th>Pressure9am</th>\n",
       "      <th>Pressure3pm</th>\n",
       "      <th>Cloud9am</th>\n",
       "      <th>Cloud3pm</th>\n",
       "      <th>Temp9am</th>\n",
       "      <th>Temp3pm</th>\n",
       "      <th>RainToday</th>\n",
       "      <th>RainTomorrow</th>\n",
       "    </tr>\n",
       "  </thead>\n",
       "  <tbody>\n",
       "    <tr>\n",
       "      <th>0</th>\n",
       "      <td>2008-12-01</td>\n",
       "      <td>Albury</td>\n",
       "      <td>13.4</td>\n",
       "      <td>22.9</td>\n",
       "      <td>0.6</td>\n",
       "      <td>NaN</td>\n",
       "      <td>NaN</td>\n",
       "      <td>W</td>\n",
       "      <td>44.0</td>\n",
       "      <td>W</td>\n",
       "      <td>...</td>\n",
       "      <td>71.0</td>\n",
       "      <td>22.0</td>\n",
       "      <td>1007.7</td>\n",
       "      <td>1007.1</td>\n",
       "      <td>8.0</td>\n",
       "      <td>NaN</td>\n",
       "      <td>16.9</td>\n",
       "      <td>21.8</td>\n",
       "      <td>No</td>\n",
       "      <td>No</td>\n",
       "    </tr>\n",
       "    <tr>\n",
       "      <th>1</th>\n",
       "      <td>2008-12-02</td>\n",
       "      <td>Albury</td>\n",
       "      <td>7.4</td>\n",
       "      <td>25.1</td>\n",
       "      <td>0.0</td>\n",
       "      <td>NaN</td>\n",
       "      <td>NaN</td>\n",
       "      <td>WNW</td>\n",
       "      <td>44.0</td>\n",
       "      <td>NNW</td>\n",
       "      <td>...</td>\n",
       "      <td>44.0</td>\n",
       "      <td>25.0</td>\n",
       "      <td>1010.6</td>\n",
       "      <td>1007.8</td>\n",
       "      <td>NaN</td>\n",
       "      <td>NaN</td>\n",
       "      <td>17.2</td>\n",
       "      <td>24.3</td>\n",
       "      <td>No</td>\n",
       "      <td>No</td>\n",
       "    </tr>\n",
       "    <tr>\n",
       "      <th>2</th>\n",
       "      <td>2008-12-03</td>\n",
       "      <td>Albury</td>\n",
       "      <td>12.9</td>\n",
       "      <td>25.7</td>\n",
       "      <td>0.0</td>\n",
       "      <td>NaN</td>\n",
       "      <td>NaN</td>\n",
       "      <td>WSW</td>\n",
       "      <td>46.0</td>\n",
       "      <td>W</td>\n",
       "      <td>...</td>\n",
       "      <td>38.0</td>\n",
       "      <td>30.0</td>\n",
       "      <td>1007.6</td>\n",
       "      <td>1008.7</td>\n",
       "      <td>NaN</td>\n",
       "      <td>2.0</td>\n",
       "      <td>21.0</td>\n",
       "      <td>23.2</td>\n",
       "      <td>No</td>\n",
       "      <td>No</td>\n",
       "    </tr>\n",
       "    <tr>\n",
       "      <th>3</th>\n",
       "      <td>2008-12-04</td>\n",
       "      <td>Albury</td>\n",
       "      <td>9.2</td>\n",
       "      <td>28.0</td>\n",
       "      <td>0.0</td>\n",
       "      <td>NaN</td>\n",
       "      <td>NaN</td>\n",
       "      <td>NE</td>\n",
       "      <td>24.0</td>\n",
       "      <td>SE</td>\n",
       "      <td>...</td>\n",
       "      <td>45.0</td>\n",
       "      <td>16.0</td>\n",
       "      <td>1017.6</td>\n",
       "      <td>1012.8</td>\n",
       "      <td>NaN</td>\n",
       "      <td>NaN</td>\n",
       "      <td>18.1</td>\n",
       "      <td>26.5</td>\n",
       "      <td>No</td>\n",
       "      <td>No</td>\n",
       "    </tr>\n",
       "    <tr>\n",
       "      <th>4</th>\n",
       "      <td>2008-12-05</td>\n",
       "      <td>Albury</td>\n",
       "      <td>17.5</td>\n",
       "      <td>32.3</td>\n",
       "      <td>1.0</td>\n",
       "      <td>NaN</td>\n",
       "      <td>NaN</td>\n",
       "      <td>W</td>\n",
       "      <td>41.0</td>\n",
       "      <td>ENE</td>\n",
       "      <td>...</td>\n",
       "      <td>82.0</td>\n",
       "      <td>33.0</td>\n",
       "      <td>1010.8</td>\n",
       "      <td>1006.0</td>\n",
       "      <td>7.0</td>\n",
       "      <td>8.0</td>\n",
       "      <td>17.8</td>\n",
       "      <td>29.7</td>\n",
       "      <td>No</td>\n",
       "      <td>No</td>\n",
       "    </tr>\n",
       "  </tbody>\n",
       "</table>\n",
       "<p>5 rows × 23 columns</p>\n",
       "</div>"
      ],
      "text/plain": [
       "         Date Location  MinTemp  MaxTemp  Rainfall  Evaporation  Sunshine  \\\n",
       "0  2008-12-01   Albury     13.4     22.9       0.6          NaN       NaN   \n",
       "1  2008-12-02   Albury      7.4     25.1       0.0          NaN       NaN   \n",
       "2  2008-12-03   Albury     12.9     25.7       0.0          NaN       NaN   \n",
       "3  2008-12-04   Albury      9.2     28.0       0.0          NaN       NaN   \n",
       "4  2008-12-05   Albury     17.5     32.3       1.0          NaN       NaN   \n",
       "\n",
       "  WindGustDir  WindGustSpeed WindDir9am  ... Humidity9am  Humidity3pm  \\\n",
       "0           W           44.0          W  ...        71.0         22.0   \n",
       "1         WNW           44.0        NNW  ...        44.0         25.0   \n",
       "2         WSW           46.0          W  ...        38.0         30.0   \n",
       "3          NE           24.0         SE  ...        45.0         16.0   \n",
       "4           W           41.0        ENE  ...        82.0         33.0   \n",
       "\n",
       "   Pressure9am  Pressure3pm  Cloud9am  Cloud3pm  Temp9am  Temp3pm  RainToday  \\\n",
       "0       1007.7       1007.1       8.0       NaN     16.9     21.8         No   \n",
       "1       1010.6       1007.8       NaN       NaN     17.2     24.3         No   \n",
       "2       1007.6       1008.7       NaN       2.0     21.0     23.2         No   \n",
       "3       1017.6       1012.8       NaN       NaN     18.1     26.5         No   \n",
       "4       1010.8       1006.0       7.0       8.0     17.8     29.7         No   \n",
       "\n",
       "   RainTomorrow  \n",
       "0            No  \n",
       "1            No  \n",
       "2            No  \n",
       "3            No  \n",
       "4            No  \n",
       "\n",
       "[5 rows x 23 columns]"
      ]
     },
     "execution_count": 5,
     "metadata": {},
     "output_type": "execute_result"
    }
   ],
   "source": [
    "url=\"https://cf-courses-data.s3.us.cloud-object-storage.appdomain.cloud/_0eYOqji3unP1tDNKWZMjg/weatherAUS-2.csv\"\n",
    "df= pd.read_csv(url)\n",
    "df.head()"
   ]
  },
  {
   "cell_type": "code",
   "execution_count": 7,
   "id": "277a11f3-8285-446b-a48d-be2381ddf958",
   "metadata": {
    "tags": []
   },
   "outputs": [
    {
     "data": {
      "text/plain": [
       "Date             145460\n",
       "Location         145460\n",
       "MinTemp          143975\n",
       "MaxTemp          144199\n",
       "Rainfall         142199\n",
       "Evaporation       82670\n",
       "Sunshine          75625\n",
       "WindGustDir      135134\n",
       "WindGustSpeed    135197\n",
       "WindDir9am       134894\n",
       "WindDir3pm       141232\n",
       "WindSpeed9am     143693\n",
       "WindSpeed3pm     142398\n",
       "Humidity9am      142806\n",
       "Humidity3pm      140953\n",
       "Pressure9am      130395\n",
       "Pressure3pm      130432\n",
       "Cloud9am          89572\n",
       "Cloud3pm          86102\n",
       "Temp9am          143693\n",
       "Temp3pm          141851\n",
       "RainToday        142199\n",
       "RainTomorrow     142193\n",
       "dtype: int64"
      ]
     },
     "execution_count": 7,
     "metadata": {},
     "output_type": "execute_result"
    }
   ],
   "source": [
    "df.count()"
   ]
  },
  {
   "cell_type": "markdown",
   "id": "38e748ce-5c8b-4598-ad81-9d59c5ebd6a8",
   "metadata": {},
   "source": [
    "### Drop all rows with the missing values\n"
   ]
  },
  {
   "cell_type": "code",
   "execution_count": 8,
   "id": "7e4c27c6-a780-4bc9-8373-d69f2c109b6b",
   "metadata": {
    "tags": []
   },
   "outputs": [
    {
     "name": "stdout",
     "output_type": "stream",
     "text": [
      "<class 'pandas.core.frame.DataFrame'>\n",
      "Int64Index: 56420 entries, 6049 to 142302\n",
      "Data columns (total 23 columns):\n",
      " #   Column         Non-Null Count  Dtype  \n",
      "---  ------         --------------  -----  \n",
      " 0   Date           56420 non-null  object \n",
      " 1   Location       56420 non-null  object \n",
      " 2   MinTemp        56420 non-null  float64\n",
      " 3   MaxTemp        56420 non-null  float64\n",
      " 4   Rainfall       56420 non-null  float64\n",
      " 5   Evaporation    56420 non-null  float64\n",
      " 6   Sunshine       56420 non-null  float64\n",
      " 7   WindGustDir    56420 non-null  object \n",
      " 8   WindGustSpeed  56420 non-null  float64\n",
      " 9   WindDir9am     56420 non-null  object \n",
      " 10  WindDir3pm     56420 non-null  object \n",
      " 11  WindSpeed9am   56420 non-null  float64\n",
      " 12  WindSpeed3pm   56420 non-null  float64\n",
      " 13  Humidity9am    56420 non-null  float64\n",
      " 14  Humidity3pm    56420 non-null  float64\n",
      " 15  Pressure9am    56420 non-null  float64\n",
      " 16  Pressure3pm    56420 non-null  float64\n",
      " 17  Cloud9am       56420 non-null  float64\n",
      " 18  Cloud3pm       56420 non-null  float64\n",
      " 19  Temp9am        56420 non-null  float64\n",
      " 20  Temp3pm        56420 non-null  float64\n",
      " 21  RainToday      56420 non-null  object \n",
      " 22  RainTomorrow   56420 non-null  object \n",
      "dtypes: float64(16), object(7)\n",
      "memory usage: 10.3+ MB\n"
     ]
    }
   ],
   "source": [
    "df=df.dropna()\n",
    "df.info()"
   ]
  },
  {
   "cell_type": "code",
   "execution_count": 9,
   "id": "aa539033-08df-44c2-bd6f-ea319821f72a",
   "metadata": {
    "tags": []
   },
   "outputs": [
    {
     "data": {
      "text/plain": [
       "Index(['Date', 'Location', 'MinTemp', 'MaxTemp', 'Rainfall', 'Evaporation',\n",
       "       'Sunshine', 'WindGustDir', 'WindGustSpeed', 'WindDir9am', 'WindDir3pm',\n",
       "       'WindSpeed9am', 'WindSpeed3pm', 'Humidity9am', 'Humidity3pm',\n",
       "       'Pressure9am', 'Pressure3pm', 'Cloud9am', 'Cloud3pm', 'Temp9am',\n",
       "       'Temp3pm', 'RainToday', 'RainTomorrow'],\n",
       "      dtype='object')"
      ]
     },
     "execution_count": 9,
     "metadata": {},
     "output_type": "execute_result"
    }
   ],
   "source": [
    "df.columns"
   ]
  },
  {
   "cell_type": "markdown",
   "id": "140b08a2-fb87-4297-885f-f235618878d9",
   "metadata": {},
   "source": [
    "### Features that would be innefficirnt for oredictig tomorrow's rainfall"
   ]
  },
  {
   "cell_type": "code",
   "execution_count": 45,
   "id": "5aa48246-487f-4c66-8bbe-6db7dbf97d7a",
   "metadata": {
    "tags": []
   },
   "outputs": [
    {
     "data": {
      "text/html": [
       "<div>\n",
       "<style scoped>\n",
       "    .dataframe tbody tr th:only-of-type {\n",
       "        vertical-align: middle;\n",
       "    }\n",
       "\n",
       "    .dataframe tbody tr th {\n",
       "        vertical-align: top;\n",
       "    }\n",
       "\n",
       "    .dataframe thead th {\n",
       "        text-align: right;\n",
       "    }\n",
       "</style>\n",
       "<table border=\"1\" class=\"dataframe\">\n",
       "  <thead>\n",
       "    <tr style=\"text-align: right;\">\n",
       "      <th></th>\n",
       "      <th>Feature</th>\n",
       "      <th>Non-null Count</th>\n",
       "      <th>Comment</th>\n",
       "    </tr>\n",
       "  </thead>\n",
       "  <tbody>\n",
       "    <tr>\n",
       "      <th>0</th>\n",
       "      <td>Evaporation</td>\n",
       "      <td>82670</td>\n",
       "      <td>Over 40% missing — inefficient</td>\n",
       "    </tr>\n",
       "    <tr>\n",
       "      <th>1</th>\n",
       "      <td>Sunshine</td>\n",
       "      <td>75625</td>\n",
       "      <td>Nearly 50% missing — inefficient</td>\n",
       "    </tr>\n",
       "    <tr>\n",
       "      <th>2</th>\n",
       "      <td>Cloud9am</td>\n",
       "      <td>89572</td>\n",
       "      <td>Over 38% missing — potentially inefficient</td>\n",
       "    </tr>\n",
       "    <tr>\n",
       "      <th>3</th>\n",
       "      <td>Cloud3pm</td>\n",
       "      <td>86102</td>\n",
       "      <td>Over 41% missing — potentially inefficient</td>\n",
       "    </tr>\n",
       "    <tr>\n",
       "      <th>4</th>\n",
       "      <td>Pressure9am</td>\n",
       "      <td>130395</td>\n",
       "      <td>~15,000 missing — depends on context</td>\n",
       "    </tr>\n",
       "    <tr>\n",
       "      <th>5</th>\n",
       "      <td>Pressure3pm</td>\n",
       "      <td>130432</td>\n",
       "      <td>~15,000 missing — depends on context</td>\n",
       "    </tr>\n",
       "  </tbody>\n",
       "</table>\n",
       "</div>"
      ],
      "text/plain": [
       "       Feature  Non-null Count                                     Comment\n",
       "0  Evaporation           82670              Over 40% missing — inefficient\n",
       "1     Sunshine           75625            Nearly 50% missing — inefficient\n",
       "2     Cloud9am           89572  Over 38% missing — potentially inefficient\n",
       "3     Cloud3pm           86102  Over 41% missing — potentially inefficient\n",
       "4  Pressure9am          130395        ~15,000 missing — depends on context\n",
       "5  Pressure3pm          130432        ~15,000 missing — depends on context"
      ]
     },
     "execution_count": 45,
     "metadata": {},
     "output_type": "execute_result"
    }
   ],
   "source": [
    "# Create a dictionary with the data\n",
    "inneficient_data = {\n",
    "    \"Feature\": [\"Evaporation\", \"Sunshine\", \"Cloud9am\", \"Cloud3pm\", \"Pressure9am\", \"Pressure3pm\"],\n",
    "    \"Non-null Count\": [82670, 75625, 89572, 86102, 130395, 130432],\n",
    "    \"Comment\": [\n",
    "        \"Over 40% missing — inefficient\",\n",
    "        \"Nearly 50% missing — inefficient\",\n",
    "        \"Over 38% missing — potentially inefficient\",\n",
    "        \"Over 41% missing — potentially inefficient\",\n",
    "        \"~15,000 missing — depends on context\",\n",
    "        \"~15,000 missing — depends on context\"\n",
    "    ]\n",
    "}\n",
    "\n",
    "# Convert the dictionary into a DataFrame\n",
    "inneficient_data_table = pd.DataFrame(inneficient_data)\n",
    "\n",
    "# Display the DataFrame\n",
    "inneficient_data_table "
   ]
  },
  {
   "cell_type": "markdown",
   "id": "ad899197-d7fe-4d55-af9e-159be472aa67",
   "metadata": {},
   "source": [
    "### Create a function to map dates to seasons"
   ]
  },
  {
   "cell_type": "code",
   "execution_count": null,
   "id": "beef24a0-32eb-47ec-b04f-792148ec2f6d",
   "metadata": {
    "tags": []
   },
   "outputs": [],
   "source": [
    "def date_to_season(date):\n",
    "    month= date.month\n",
    "    if (month==12) or (month==1) or (month==2):\n",
    "        return 'Summer'\n",
    "    elif (month == 3) or (month == 4) or (month == 5):\n",
    "        return 'Autumn'\n",
    "    elif (month == 6) or (month == 7) or (month == 8):\n",
    "        return 'Winter'\n",
    "    elif (month == 9) or (month == 10) or (month == 11):\n",
    "        return 'Spring'"
   ]
  },
  {
   "cell_type": "code",
   "execution_count": 49,
   "id": "f205ba23-4136-449b-bfd0-4c1f9c8f8245",
   "metadata": {
    "tags": []
   },
   "outputs": [
    {
     "name": "stdout",
     "output_type": "stream",
     "text": [
      "['Date', 'Location', 'MinTemp', 'MaxTemp', 'Rainfall', 'Evaporation', 'Sunshine', 'WindGustDir', 'WindGustSpeed', 'WindDir9am', 'WindDir3pm', 'WindSpeed9am', 'WindSpeed3pm', 'Humidity9am', 'Humidity3pm', 'Pressure9am', 'Pressure3pm', 'Cloud9am', 'Cloud3pm', 'Temp9am', 'Temp3pm', 'RainYesterday', 'RainYesterday']\n"
     ]
    }
   ],
   "source": [
    "print(df.columns.tolist())\n"
   ]
  },
  {
   "cell_type": "markdown",
   "id": "8cba0965-df85-4bb8-9f02-2563203bc64c",
   "metadata": {},
   "source": [
    "### Define the feature and target dataframes\n"
   ]
  },
  {
   "cell_type": "markdown",
   "id": "14014d0f-eb0d-4550-aea5-f80afdf58dd9",
   "metadata": {},
   "source": [
    "### Drop the confusiion in the rain column naming"
   ]
  },
  {
   "cell_type": "code",
   "execution_count": 52,
   "id": "814fea79-328b-4b41-9d44-92ca51b64f4e",
   "metadata": {
    "tags": []
   },
   "outputs": [
    {
     "name": "stdout",
     "output_type": "stream",
     "text": [
      "Current columns in dataset:\n",
      "['Date', 'Location', 'MinTemp', 'MaxTemp', 'Rainfall', 'Evaporation', 'Sunshine', 'WindGustDir', 'WindGustSpeed', 'WindDir9am', 'WindDir3pm', 'WindSpeed9am', 'WindSpeed3pm', 'Humidity9am', 'Humidity3pm', 'Pressure9am', 'Pressure3pm', 'Cloud9am', 'Cloud3pm', 'Temp9am', 'Temp3pm', 'RainCurrentDay', 'RainNextDay']\n",
      "\n",
      "Class distribution for RainNextDay (target variable):\n",
      "No     43993\n",
      "Yes    12427\n",
      "Name: RainNextDay, dtype: int64\n",
      "\n",
      "Class percentages:\n",
      "No     78.0%\n",
      "Yes    22.0%\n",
      "Name: RainNextDay, dtype: object\n"
     ]
    }
   ],
   "source": [
    "# Import required library\n",
    "import pandas as pd\n",
    "\n",
    "# Load the dataset\n",
    "url = \"https://cf-courses-data.s3.us.cloud-object-storage.appdomain.cloud/_0eYOqji3unP1tDNKWZMjg/weatherAUS-2.csv\"\n",
    "df = pd.read_csv(url)\n",
    "\n",
    "# Drop rows with missing values\n",
    "df = df.dropna()\n",
    "\n",
    "# Fix the rain column naming confusion\n",
    "# Original columns: 'RainToday' (current day), 'RainTomorrow' (next day)\n",
    "# We'll rename to make it absolutely clear:\n",
    "df = df.rename(columns={\n",
    "    'RainToday': 'RainCurrentDay',  # Whether it rained on the recorded date\n",
    "    'RainTomorrow': 'RainNextDay'   # Whether it rained the following day (target)\n",
    "})\n",
    "\n",
    "# Verify our columns\n",
    "print(\"Current columns in dataset:\")\n",
    "print(df.columns.tolist())\n",
    "\n",
    "# Show the distribution of our target variable (RainNextDay)\n",
    "print(\"\\nClass distribution for RainNextDay (target variable):\")\n",
    "print(df['RainNextDay'].value_counts())\n",
    "\n",
    "# Show percentages\n",
    "print(\"\\nClass percentages:\")\n",
    "print(df['RainNextDay'].value_counts(normalize=True).apply(lambda x: f\"{x*100:.1f}%\"))"
   ]
  },
  {
   "cell_type": "markdown",
   "id": "fc07f599-fd84-4049-b620-89e672f4f5dd",
   "metadata": {},
   "source": [
    "In the Melbourne area, it rains on approximately 22.4% of days annually (based on our dataset's \"Yes\" class for RainNextDay). If you assumed it would never rain (always predicting \"No\"), we'd be 77.6% accurate—but this ignores all rainy days, making the model useless for predicting rain. our dataset is imbalanced (77.6% \"No\" vs. 22.4% \"Yes\")"
   ]
  },
  {
   "cell_type": "markdown",
   "id": "600b9751-1687-4ece-8217-4b18fedbf86b",
   "metadata": {},
   "source": [
    "### Split data into trainand test sets"
   ]
  },
  {
   "cell_type": "code",
   "execution_count": 57,
   "id": "f8b049d0-15de-42f2-9a2a-5a4a57dd75dd",
   "metadata": {
    "tags": []
   },
   "outputs": [
    {
     "name": "stdout",
     "output_type": "stream",
     "text": [
      "\n",
      "Training set class distribution:\n",
      "No     78.0%\n",
      "Yes    22.0%\n",
      "Name: RainNextDay, dtype: object\n",
      "\n",
      "Test set class distribution:\n",
      "No     78.0%\n",
      "Yes    22.0%\n",
      "Name: RainNextDay, dtype: object\n"
     ]
    }
   ],
   "source": [
    "# Define features and target\n",
    "y = df['RainNextDay']  # Target variable (whether it will rain tomorrow)\n",
    "X = df.drop(columns=['RainNextDay', 'Date', 'RainCurrentDay', 'Location'])  # Features\n",
    "\n",
    "X_train,X_test,y_train,y_test=train_test_split(X,y,test_size=0.2,random_state=42,stratify=y)\n",
    "#verify splits\n",
    "print(\"\\nTraining set class distribution:\")\n",
    "print(y_train.value_counts(normalize=True).apply(lambda x: f\"{x*100:.1f}%\"))\n",
    "\n",
    "print(\"\\nTest set class distribution:\")\n",
    "print(y_test.value_counts(normalize=True).apply(lambda x: f\"{x*100:.1f}%\"))"
   ]
  },
  {
   "cell_type": "markdown",
   "id": "79fbd533-62b7-453b-ab7b-1815b199dd36",
   "metadata": {},
   "source": [
    "### Define preprocessing transformers for numerical and categorical feature"
   ]
  },
  {
   "cell_type": "markdown",
   "id": "d41f2323-b48b-4db1-92e6-585d458e63f4",
   "metadata": {},
   "source": [
    "### Automatically detect numerical and categorical columns and assign them to separate numeric and categorical features"
   ]
  },
  {
   "cell_type": "code",
   "execution_count": 58,
   "id": "4c97d017-c693-4082-812e-9228b8829116",
   "metadata": {
    "tags": []
   },
   "outputs": [],
   "source": [
    "numeric_features=numerical_features = X_train.select_dtypes(include=['number']).columns.tolist()\n",
    "categorical_features = X_train.select_dtypes(include=['object', 'category']).columns.tolist()"
   ]
  },
  {
   "cell_type": "markdown",
   "id": "34e98eb4-8ca5-4b01-945c-2bb9dd8f3f74",
   "metadata": {},
   "source": [
    "### Define separate transformers for both feature types and combine them into a single preprocessing transformer"
   ]
  },
  {
   "cell_type": "code",
   "execution_count": 59,
   "id": "9cd16bc0-8b97-4339-b615-fdf8cc89e86e",
   "metadata": {
    "tags": []
   },
   "outputs": [],
   "source": [
    "# Scale the numeric features\n",
    "numeric_transformer = Pipeline(steps=[('scaler', StandardScaler())])\n",
    "\n",
    "# One-hot encode the categoricals \n",
    "categorical_transformer = Pipeline(steps=[('onehot', OneHotEncoder(handle_unknown='ignore'))])"
   ]
  },
  {
   "cell_type": "markdown",
   "id": "cab51157-7031-4964-96bf-3641734aa869",
   "metadata": {
    "tags": []
   },
   "source": [
    "### Combine transformers into a singe preprocessing column transformer "
   ]
  },
  {
   "cell_type": "code",
   "execution_count": 62,
   "id": "8bc08021-ef25-4696-ba70-735e0bfb4b01",
   "metadata": {
    "tags": []
   },
   "outputs": [],
   "source": [
    "from sklearn.impute import SimpleImputer\n",
    "numerical_transformer=Pipeline(steps=[\n",
    "    ('imputer',SimpleImputer(strategy='median')),\n",
    "    ('scaler',StandardScaler())\n",
    "])\n",
    "categorical_transformer = Pipeline(steps=[\n",
    "    ('imputer', SimpleImputer(strategy='most_frequent')),\n",
    "    ('onehot', OneHotEncoder(handle_unknown='ignore'))\n",
    "])"
   ]
  },
  {
   "cell_type": "markdown",
   "id": "16a2774d-1e36-4c26-9d7d-b7f98d6f87cf",
   "metadata": {},
   "source": [
    "### Create a pipeline by combining the preprocessing with a Random Forest classifier"
   ]
  },
  {
   "cell_type": "code",
   "execution_count": 63,
   "id": "d5a8fb8a-e278-4559-8968-58d11d14ad4d",
   "metadata": {
    "tags": []
   },
   "outputs": [],
   "source": [
    "preprocessor = ColumnTransformer(\n",
    "    transformers=[\n",
    "        ('num', numerical_transformer, numerical_features),\n",
    "        ('cat', categorical_transformer, categorical_features)\n",
    "    ])\n",
    "pipeline = Pipeline([\n",
    "    ('preprocessor', preprocessor),\n",
    "    ('classifier', RandomForestClassifier(\n",
    "        class_weight='balanced',  \n",
    "        random_state=42,\n",
    "        n_jobs=-1))  \n",
    "])"
   ]
  },
  {
   "cell_type": "markdown",
   "id": "02054619-1c70-4194-a408-9669f0ae1dab",
   "metadata": {},
   "source": [
    "### Define parameter grid\n"
   ]
  },
  {
   "cell_type": "code",
   "execution_count": 64,
   "id": "10e09626-31cb-465a-9d6a-fc3f2090844f",
   "metadata": {
    "tags": []
   },
   "outputs": [],
   "source": [
    "param_grid = {\n",
    "    'classifier__n_estimators': [50, 100],\n",
    "    'classifier__max_depth': [None, 10, 20],\n",
    "    'classifier__min_samples_split': [2, 5]\n",
    "}"
   ]
  },
  {
   "cell_type": "markdown",
   "id": "53e00207-7de4-4d0f-92c4-e8553d734b83",
   "metadata": {},
   "source": [
    "### Perform grid search cross-validation and fit the best model to the training data"
   ]
  },
  {
   "cell_type": "markdown",
   "id": "54e680ce-c949-485f-bd71-e6569eb788dd",
   "metadata": {},
   "source": [
    "### Perform grid search cross-validation and fit the best model to the training data"
   ]
  },
  {
   "cell_type": "code",
   "execution_count": null,
   "id": "6ad5b930-a58f-4232-8361-aed2fe8d90ba",
   "metadata": {
    "tags": []
   },
   "outputs": [],
   "source": [
    "cv = StratifiedKFold(n_splits=5, shuffle=True)"
   ]
  },
  {
   "cell_type": "markdown",
   "id": "fc1cc3a8-eae7-4650-ab11-c66c532b082c",
   "metadata": {},
   "source": [
    "## Instantiate and fit GridSearchCV to the pipelinepipe \n",
    "    "
   ]
  },
  {
   "cell_type": "code",
   "execution_count": null,
   "id": "c1e6b018-4412-4089-a18d-35d6afaa557d",
   "metadata": {
    "tags": []
   },
   "outputs": [],
   "source": [
    "grid_search = GridSearchCV(estimator=pipeline, param_grid=param_grid, cv=cv, scoring='accuracy', verbose=2)\n",
    "grid_search.fit(X_train, y_train)\n",
    "\n"
   ]
  },
  {
   "cell_type": "markdown",
   "id": "16433016-19b1-4a22-be7a-53aded47b2be",
   "metadata": {},
   "source": [
    "### Diaplay model's  estimated score\n"
   ]
  },
  {
   "cell_type": "code",
   "execution_count": null,
   "id": "50855a3c-a523-4e52-b147-c269993dd307",
   "metadata": {
    "tags": []
   },
   "outputs": [],
   "source": [
    "test_score = grid_search.score(X_test, y_test)\n",
    "print(\"Test set score: {:.2f}\".format(test_score))"
   ]
  },
  {
   "cell_type": "code",
   "execution_count": null,
   "id": "558b7530-22bd-4ecb-9766-c3cdb09700d5",
   "metadata": {},
   "outputs": [],
   "source": []
  }
 ],
 "metadata": {
  "kernelspec": {
   "display_name": "Python 3 (ipykernel)",
   "language": "python",
   "name": "python3"
  },
  "language_info": {
   "codemirror_mode": {
    "name": "ipython",
    "version": 3
   },
   "file_extension": ".py",
   "mimetype": "text/x-python",
   "name": "python",
   "nbconvert_exporter": "python",
   "pygments_lexer": "ipython3",
   "version": "3.11.3"
  }
 },
 "nbformat": 4,
 "nbformat_minor": 5
}
